{
  "nbformat": 4,
  "nbformat_minor": 0,
  "metadata": {
    "colab": {
      "provenance": [],
      "collapsed_sections": []
    },
    "kernelspec": {
      "name": "python3",
      "display_name": "Python 3"
    },
    "language_info": {
      "name": "python"
    }
  },
  "cells": [
    {
      "cell_type": "code",
      "source": [
        "IMAGE PREPROCESSING "
      ],
      "metadata": {
        "id": "PniNiAZnK2Qk"
      },
      "execution_count": null,
      "outputs": []
    },
    {
      "cell_type": "markdown",
      "source": [
        "# Import The ImageDataGenerator Library"
      ],
      "metadata": {
        "id": "Cnrjwa2uLngy"
      }
    },
    {
      "cell_type": "code",
      "execution_count": 1,
      "metadata": {
        "id": "EKCWlDznIyYG"
      },
      "outputs": [],
      "source": [
        "from keras.preprocessing.image import ImageDataGenerator\n"
      ]
    },
    {
      "cell_type": "markdown",
      "source": [
        "# Configure ImageDataGenerator Class"
      ],
      "metadata": {
        "id": "fUdAREMzMU-v"
      }
    },
    {
      "cell_type": "code",
      "source": [
        "train_datagen=ImageDataGenerator(rescale=1./255,shear_range=0.2,zoom_range=0.2,horizontal_flip=True)\n",
        "test_datagen = ImageDataGenerator(rescale=1./255)"
      ],
      "metadata": {
        "id": "U3c6ME_4KV1T"
      },
      "execution_count": 2,
      "outputs": []
    },
    {
      "cell_type": "markdown",
      "source": [
        "# Apply ImageDataGenerator Functionality To TrainSet And TestSet"
      ],
      "metadata": {
        "id": "hyiE4GuYMdgK"
      }
    },
    {
      "cell_type": "code",
      "source": [
        "x_train=train_datagen.flow_from_directory( '/content/drive/MyDrive/ibm/train',target_size=(64,64),batch_size=5,color_mode='grayscale',class_mode='categorical')\n",
        "x_test=test_datagen.flow_from_directory( '/content/drive/MyDrive/ibm/test',target_size=(64,64),batch_size=5,color_mode='grayscale',class_mode='categorical')\n"
      ],
      "metadata": {
        "colab": {
          "base_uri": "https://localhost:8080/"
        },
        "id": "LdzU7hmSKYCX",
        "outputId": "137a8432-ed8d-43fe-88af-10f6e60af6e8"
      },
      "execution_count": 4,
      "outputs": [
        {
          "output_type": "stream",
          "name": "stdout",
          "text": [
            "Found 591 images belonging to 6 classes.\n",
            "Found 30 images belonging to 6 classes.\n"
          ]
        }
      ]
    },
    {
      "cell_type": "markdown",
      "source": [],
      "metadata": {
        "id": "swZajxy5LUEH"
      }
    }
  ]
}